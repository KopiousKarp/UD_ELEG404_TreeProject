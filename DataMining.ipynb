{
 "cells": [
  {
   "cell_type": "code",
   "execution_count": 1,
   "metadata": {
    "colab": {
     "base_uri": "https://localhost:8080/"
    },
    "id": "a30nBABhuSpm",
    "outputId": "317836c8-4352-44a3-a845-42888f324982"
   },
   "outputs": [
    {
     "name": "stdout",
     "output_type": "stream",
     "text": [
      "Element: Howland_Forest_Jun2012_at-sensor_refl_L1G\n"
     ]
    }
   ],
   "source": [
    "from glob import glob \n",
    "#file_list = glob(\"P\" + \"*.*\", recursive = True)\n",
    "file_list = glob(\"Howland_Forest_Jun2012_at-sensor_refl_L1G\",recursive = True)\n",
    "for i in file_list:\n",
    "    print(\"Element: \" + i)\n",
    "# print(\"List of filenames:\", file_list)"
   ]
  },
  {
   "cell_type": "raw",
   "metadata": {
    "colab": {
     "base_uri": "https://localhost:8080/"
    },
    "id": "IhKWmuFGubkg",
    "outputId": "f2d2e8d7-5716-41a5-9d51-acfe05d2bbe9"
   },
   "source": [
    "import os\n",
    "print(\"The size of\", file_list[0], \" is \", \n",
    "      os.path.getsize (file_list[0]), \"bytes.\")"
   ]
  },
  {
   "cell_type": "code",
   "execution_count": 2,
   "metadata": {
    "colab": {
     "base_uri": "https://localhost:8080/"
    },
    "id": "QY1E0Rxaugkk",
    "outputId": "ea63d9bb-c34f-4ee8-d721-6b8e22bdef45"
   },
   "outputs": [
    {
     "name": "stdout",
     "output_type": "stream",
     "text": [
      "                                             metadata\n",
      "0                                                ENVI\n",
      "1                                     description = {\n",
      "2     NASA G-LiHT, Howland_Forest_Jun2012 [Sat Mar...\n",
      "3                                      samples = 8008\n",
      "4                                     lines   = 10010\n",
      "5                                       bands   = 114\n",
      "6                                   header offset = 0\n",
      "7                           file type = ENVI Standard\n",
      "8                                       data type = 2\n",
      "9                                    interleave = bsq\n",
      "10                              sensor type = Unknown\n",
      "11                                     byte order = 0\n",
      "12  map info = {UTM, 1.000, 1.000, 517403.000, 501...\n",
      "13  coordinate system string = {PROJCS[\"UTM_Zone_1...\n",
      "14                         default bands = {55,34,16}\n",
      "15                      wavelength units = Nanometers\n",
      "16  z plot titles = {Wavelength (nm), Reflectance ...\n",
      "17  pixel size = {1.00000000e+00, 1.00000000e+00, ...\n",
      "18                      default stretch = 0.0% linear\n",
      "19                                     wavelength = {\n",
      "20   418.384277, 422.810944, 427.237701, 431.66442...\n",
      "21   444.944580, 449.371338, 453.798004, 458.22476...\n",
      "22   471.504913, 475.931641, 480.358368, 484.78506...\n",
      "23   498.065277, 502.491943, 506.918701, 511.34536...\n",
      "24   524.625549, 529.052307, 533.479004, 537.90576...\n",
      "25   551.185913, 555.612610, 560.039368, 564.46606...\n",
      "26   577.746216, 582.172974, 586.599670, 591.02636...\n",
      "27   604.306580, 608.733276, 613.159973, 617.58673...\n",
      "28   630.866882, 635.293579, 639.720337, 644.14703...\n",
      "29   657.427246, 661.853943, 666.280640, 670.70739...\n",
      "30   683.987549, 688.414307, 692.841003, 697.26776...\n",
      "31   710.547852, 714.974609, 719.401367, 723.82794...\n",
      "32   737.108215, 741.534912, 745.961670, 750.38836...\n",
      "33   763.668518, 768.095215, 772.521973, 776.94873...\n",
      "34   790.228821, 794.655579, 799.082275, 803.50903...\n",
      "35   816.789246, 821.215881, 825.642578, 830.06933...\n",
      "36   843.349426, 847.776184, 852.202942, 856.62963...\n",
      "37   869.909851, 874.336609, 878.763367, 883.19000...\n",
      "38   896.470215, 900.896790, 905.323547, 909.75030...\n",
      "39                                           fwhm = {\n",
      "40   15.432110, 15.363963, 15.295815, 15.227666, 1...\n",
      "41   14.955075, 14.886928, 14.818779, 14.750632, 1...\n",
      "42   14.478042, 14.409894, 14.341746, 14.273598, 1...\n",
      "43   14.001007, 13.932860, 13.864712, 13.796565, 1...\n",
      "44   13.523974, 13.455826, 13.387679, 13.319530, 1...\n",
      "45   13.046940, 12.978792, 12.910645, 12.842497, 1...\n",
      "46   12.569905, 12.501758, 12.433610, 12.365462, 1...\n",
      "47   12.092872, 12.024724, 11.956576, 11.888429, 1...\n",
      "48   11.615837, 11.547690, 11.479542, 11.411395, 1...\n",
      "49   11.138804, 11.070656, 11.002508, 10.934361, 1...\n",
      "50   10.661770, 10.593622, 10.525475, 10.457327, 1...\n",
      "51   10.184736, 10.116589, 10.048441,  9.980293,  ...\n",
      "52    9.707703,  9.639555,  9.571407,  9.503258,  ...\n",
      "53    9.230667,  9.162519,  9.094372,  9.026224,  ...\n",
      "54    8.753633,  8.685486,  8.617338,  8.549191,  ...\n",
      "55    8.276600,  8.208452,  8.140305,  8.072157,  ...\n",
      "56                               7.799566,  7.731418}\n"
     ]
    }
   ],
   "source": [
    "import pandas as pd\n",
    "metadata_list = glob(\"./Howland_Forest_Jun2012_at-sensor_refl_L1G.hdr\")\n",
    "header_info = pd.read_table(metadata_list[0], header=None)\n",
    "# header_info = pd.read_table(file_list[1], header=None)\n",
    "header_info.columns = [\"metadata\"]\n",
    "print(header_info)"
   ]
  },
  {
   "cell_type": "code",
   "execution_count": 3,
   "metadata": {
    "colab": {
     "base_uri": "https://localhost:8080/"
    },
    "id": "uCDE1GbA8R2G",
    "outputId": "fe85998a-ab52-4720-9ee1-9584a45cda36"
   },
   "outputs": [
    {
     "name": "stdout",
     "output_type": "stream",
     "text": [
      "['./Howland_Forest_Jun2012_at-sensor_refl_L1G.hdr']\n",
      "Howland_Forest_Jun2012_at-sensor_refl_L1G\n"
     ]
    }
   ],
   "source": [
    "print(metadata_list)\n",
    "print(file_list[0])"
   ]
  },
  {
   "cell_type": "code",
   "execution_count": 4,
   "metadata": {
    "colab": {
     "base_uri": "https://localhost:8080/"
    },
    "id": "_cJx2Fm8ulDP",
    "outputId": "eed82a35-09c7-42bc-e868-e4f9128cd6d3"
   },
   "outputs": [],
   "source": [
    "##!pip install spectral\n",
    "from spectral import *"
   ]
  },
  {
   "cell_type": "code",
   "execution_count": 5,
   "metadata": {
    "colab": {
     "base_uri": "https://localhost:8080/",
     "height": 311
    },
    "id": "YWfDBPipuzR9",
    "outputId": "d4f7e227-e579-4aa6-c051-d6a18e6ead34"
   },
   "outputs": [],
   "source": [
    "# img = envi.open(file_list[1], )\n",
    "# img1 = envi.open(file_list[3], )\n",
    "# img2 = envi.open(file_list[5], )\n",
    "img = envi.open(metadata_list[0], )\n",
    "# img1 = envi.open(metadata_list[1], )\n",
    "# img2 = envi.open(metadata_list[2], )"
   ]
  },
  {
   "cell_type": "code",
   "execution_count": 6,
   "metadata": {
    "colab": {
     "base_uri": "https://localhost:8080/"
    },
    "id": "jx0XTcqku2vH",
    "outputId": "c43fbeb3-633c-4477-9145-218d3826abdc"
   },
   "outputs": [
    {
     "name": "stdout",
     "output_type": "stream",
     "text": [
      "(2024, 2024, 114)\n"
     ]
    }
   ],
   "source": [
    "#This is required to avoid memory errors... it takes a while\n",
    "lsRows = []\n",
    "lsCols = []\n",
    "for i in range(2024):\n",
    "    lsRows.append(i)\n",
    "    lsCols.append(i)\n",
    "img = img.read_subimage(lsRows,lsCols,bands=None,use_memmap=False)\n",
    "print(img.shape)\n",
    "# print(img1.shape)\n",
    "# print(img2.shape)"
   ]
  },
  {
   "cell_type": "raw",
   "metadata": {
    "colab": {
     "base_uri": "https://localhost:8080/"
    },
    "id": "d3KvVCkhVDG1",
    "outputId": "807ae3da-a2b0-4ad4-ce9c-78ed20784369"
   },
   "source": [
    "#Inspect individual pixel\n",
    "print(img[500,700,6])\n",
    "print(img1[500,700,6])\n",
    "print(img2[500,700,6])"
   ]
  },
  {
   "cell_type": "code",
   "execution_count": 7,
   "metadata": {
    "colab": {
     "base_uri": "https://localhost:8080/",
     "height": 186
    },
    "id": "vL3l6-5EVGrv",
    "outputId": "b0a96122-c8fe-483f-cd3e-b7d7339afe3c"
   },
   "outputs": [],
   "source": [
    "#Load image as an array\n",
    "# arr = img.load()\n",
    "arr = img\n",
    "# arr1 = img1.load()\n",
    "# arr2 = img2.load()"
   ]
  },
  {
   "cell_type": "raw",
   "metadata": {
    "id": "Yuh3KFfwZjb3"
   },
   "source": [
    "import numpy as np\n",
    "#Subsample image for faster processing\n",
    "arr = arr[::3,::3,:]\n",
    "arr.shape\n",
    "\n",
    "arr1 = arr1[::3,::3,:]\n",
    "arr1.shape\n",
    "\n",
    "arr2 = arr2[::3,::3,:]\n",
    "arr2.shape\n",
    "\n",
    "\n"
   ]
  },
  {
   "cell_type": "raw",
   "metadata": {
    "id": "PaSJgXHhZqSf"
   },
   "source": [
    "print(header_info[\"metadata\"][18])"
   ]
  },
  {
   "cell_type": "code",
   "execution_count": 8,
   "metadata": {
    "id": "3uXb1o3xZvEh"
   },
   "outputs": [],
   "source": [
    "#Functions for working with images\n",
    "import cv2\n",
    "import matplotlib.pyplot as plt\n",
    "import numpy as np\n",
    "\n",
    "# def show_image(img1,img2,img3):\n",
    "def show_image(img1):\n",
    "    fig1, ax1 = plt.subplots(figsize=(5, 5))\n",
    "    ax1.imshow(img1, cmap = 'gray')\n",
    "    # ax1.imshow(img2, cmap = 'gray')\n",
    "    # ax1.imshow(img3, cmap = 'gray')\n",
    "\n",
    "def increase_brightness(img, value=80):\n",
    "    img = img.astype(np.uint8)\n",
    "    hsv = cv2.cvtColor(img, cv2.COLOR_BGR2HSV)\n",
    "    h, s, v = cv2.split(hsv)\n",
    "\n",
    "    lim = 255 - value\n",
    "    v[v > lim] = 255\n",
    "    v[v <= lim] += value\n",
    "\n",
    "    final_hsv = cv2.merge((h, s, v))\n",
    "    img = cv2.cvtColor(final_hsv, cv2.COLOR_HSV2BGR)\n",
    "    return img\n",
    "\n",
    "def create_rgb(hyper_cube):\n",
    "    rgb_image = hyper_cube[:,:,[45,30,8]]\n",
    "    rgb_image = cv2.normalize(rgb_image, dst=None, alpha=0, beta=255, norm_type=cv2.NORM_MINMAX)\n",
    "    rgb_image = rgb_image.astype(np.uint8)\n",
    "    rgb_image = increase_brightness(rgb_image)\n",
    "    return rgb_image"
   ]
  },
  {
   "cell_type": "code",
   "execution_count": 9,
   "metadata": {},
   "outputs": [],
   "source": [
    "def spectralSlicing(img, dim):\n",
    "    #declaring variables\n",
    "    inBounds = True\n",
    "    x,y = 0,0\n",
    "    ret = []\n",
    "#     print(img.shape)\n",
    "    while(inBounds):\n",
    "        #slice dim pixels in x and y and then take all 114 wavelengths \n",
    "        frame = img[x:(x+dim),y:(y+dim),:]\n",
    "        if(frame.any() != 0): #if the Frame is blank, don't append it\n",
    "            ret.append(frame)\n",
    "#         print(frame.shape)\n",
    "        #indexing and edge detection\n",
    "        x += dim\n",
    "        if((x+dim) > img.shape[0]):\n",
    "            x = 0\n",
    "            y += dim\n",
    "            if((y+dim) > img.shape[1]):\n",
    "                inBounds = False\n",
    "#    print(len(ret))\n",
    "    return ret"
   ]
  },
  {
   "cell_type": "code",
   "execution_count": 10,
   "metadata": {},
   "outputs": [],
   "source": [
    "def showframes(frames):\n",
    "    for i in range(len(frames)):\n",
    "        frame = create_rgb(frames[i])\n",
    "        show_image(frame)"
   ]
  },
  {
   "cell_type": "code",
   "execution_count": 11,
   "metadata": {},
   "outputs": [],
   "source": [
    "miniframes = spectralSlicing(img,240)"
   ]
  },
  {
   "cell_type": "code",
   "execution_count": 12,
   "metadata": {},
   "outputs": [
    {
     "data": {
      "image/png": "[encoded data removed]",
      "text/plain": [
       "<Figure size 360x360 with 1 Axes>"
      ]
     },
     "metadata": {
      "needs_background": "light"
     },
     "output_type": "display_data"
    }
   ],
   "source": [
    "showframes(miniframes[11:12])"
   ]
  },
  {
   "cell_type": "code",
   "execution_count": 13,
   "metadata": {},
   "outputs": [],
   "source": [
    "microframes = spectralSlicing(miniframes[0],80)"
   ]
  },
  {
   "cell_type": "code",
   "execution_count": 14,
   "metadata": {},
   "outputs": [],
   "source": [
    "#find different colors\n",
    "\n",
    "colorsearchFrames = []\n",
    "for i in range(len(microframes)):\n",
    "    for x in range(microframes[i].shape[0]):\n",
    "        for y in range(microframes[i].shape[1]):\n",
    "            if(microframes[i][x,y,8] > 200):\n",
    "                if(len(colorsearchFrames) < 5):\n",
    "                    colorsearchFrames.append(microframes[i])\n",
    "                    if(i<len(microframes)):\n",
    "                        i+=1\n",
    "# showframes(colorsearchFrames[:])"
   ]
  },
  {
   "cell_type": "raw",
   "metadata": {},
   "source": [
    "import matplotlib.pyplot as plt\n",
    "plt.plot(colorsearchFrames[4][10,10,0:],label=\"road\")  #road?\n",
    "plt.plot(colorsearchFrames[4][60,79,0:],label=\"house\") #House?\n",
    "plt.plot(colorsearchFrames[4][60,70,0:],label=\"grass\") #grass?\n",
    "plt.plot(colorsearchFrames[4][50,60,0:],label=\"dirt\")  #dirt\n",
    "plt.plot(colorsearchFrames[4][60,20,0:],label=\"tree\")  #tree\n",
    "plt.plot(colorsearchFrames[4][70,10,0:],label=\"another tree\")  #tree\n",
    "plt.legend()"
   ]
  },
  {
   "cell_type": "code",
   "execution_count": null,
   "metadata": {},
   "outputs": [],
   "source": [
    "def isTreePixbyPix(frame):\n",
    "    treePixels = []\n",
    "    nonTreePixels = []\n",
    "    for x in range(frame.shape[0]):\n",
    "        for y in range(frame.shape[1]):\n",
    "            if(frame[x,y,100] > 2800 and (frame[x,y,60] < frame[x,y,80]-2000) and (frame[x,y,60] < frame[x,y,25]) ):\n",
    "                treePixels.append([frame[x,y,:],1])\n",
    "            if(frame[x,y,80] < 2500 or (frame[x,y,60] > frame[x,y,80]-2000) or (frame[x,y,60] > frame[x,y,25])):\n",
    "                nonTreePixels.append([frame[x,y,:],0])\n",
    "    return treePixels, nonTreePixels\n",
    "t, n = isTreePixbyPix(miniframes[11])\n",
    "t2,n2 = isTreePixbyPix(miniframes[4])\n",
    "print(len(t))\n",
    "print(len(n))"
   ]
  },
  {
   "cell_type": "raw",
   "metadata": {},
   "source": [
    "m = 5\n",
    "print(t[m][1])\n",
    "plt.plot(t[m][0])"
   ]
  },
  {
   "cell_type": "raw",
   "metadata": {},
   "source": [
    "data = []\n",
    "for i in range(len(miniframes[0:])):\n",
    "    td, nd = isTreePixbyPix(miniframes[i])\n",
    "#     print(\"adding frame:\", i)\n",
    "    data = data + td + nd"
   ]
  },
  {
   "cell_type": "raw",
   "metadata": {
    "id": "gtcbhi9EZv6C"
   },
   "source": [
    "#Create RGB image and display it\n",
    "rgb_img = create_rgb(arr) \n",
    "rgb_img1 = create_rgb(arr1) \n",
    "rgb_img2 = create_rgb(arr2) \n",
    "print(\"The dimensions of the RGB image are:\", rgb_img.shape)\n",
    "print(\"The dimensions of the RGB image are:\", rgb_img1.shape)\n",
    "print(\"The dimensions of the RGB image are:\", rgb_img2.shape)\n",
    "# show_image(rgb_img,rgb_img1,rgb_img2)\n",
    "show_image(rgb_img)\n",
    "show_image(rgb_img1)\n",
    "show_image(rgb_img2)\n",
    "\n"
   ]
  },
  {
   "cell_type": "raw",
   "metadata": {},
   "source": [
    "#create HP5 file of training data \n",
    "import h5py\n",
    "\n",
    "\n",
    "t = t + n \n",
    "t2 = t2 + n2\n",
    "# t = data\n",
    "# print(len(data))\n",
    "# print(len(t))\n",
    "np.random.shuffle(t)\n",
    "np.random.shuffle(t2)\n",
    "\n",
    "testingData, testingLabels = zip(*t2)\n",
    "trainingData, trainingLabels = zip(*t)\n",
    "\n",
    "\n",
    "\n",
    "\n",
    "hf = h5py.File('treeVSnot.h5','w')\n",
    "hf.create_dataset('trainingData', data=trainingData)\n",
    "hf.create_dataset('trainingLabels', data=trainingLabels)\n",
    "hf.create_dataset('testingData', data=testingData)\n",
    "hf.create_dataset('testingLabels', data=testingLabels)\n",
    "\n",
    "hf.close()"
   ]
  },
  {
   "cell_type": "markdown",
   "metadata": {},
   "source": [
    "# Improvements    \n",
    "filter out the dirt       \n",
    "make sure that data set is accurate      \n",
    "get more data\n"
   ]
  },
  {
   "cell_type": "code",
   "execution_count": null,
   "metadata": {},
   "outputs": [],
   "source": [
    "#check for dirt pixels that slip into the data\n",
    "x, y = trainingData, trainingLabels\n",
    "for i in range(len(x)):\n",
    "    if(x[i][60] > (x[i][80] - 1500) and y[i] == 1):\n",
    "        print(i)\n",
    "        plt.plot(x[i])\n",
    "        "
   ]
  },
  {
   "cell_type": "code",
   "execution_count": null,
   "metadata": {},
   "outputs": [],
   "source": []
  }
 ],
 "metadata": {
  "colab": {
   "name": "TreeIdentification.ipynb",
   "provenance": []
  },
  "interpreter": {
   "hash": "31f2aee4e71d21fbe5cf8b01ff0e069b9275f58929596ceb00d14d90e3e16cd6"
  },
  "kernelspec": {
   "display_name": "eleg404",
   "language": "python",
   "name": "eleg404"
  },
  "language_info": {
   "codemirror_mode": {
    "name": "ipython",
    "version": 3
   },
   "file_extension": ".py",
   "mimetype": "text/x-python",
   "name": "python",
   "nbconvert_exporter": "python",
   "pygments_lexer": "ipython3",
   "version": "3.10.4"
  }
 },
 "nbformat": 4,
 "nbformat_minor": 1
}
