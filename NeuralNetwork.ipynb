{
 "cells": [
  {
   "cell_type": "code",
   "execution_count": 66,
   "metadata": {},
   "outputs": [
    {
     "name": "stdout",
     "output_type": "stream",
     "text": [
      "(8983, 114)\n"
     ]
    }
   ],
   "source": [
    "import numpy as np\n",
    "import tensorflow as tf\n",
    "import matplotlib.pyplot as plt\n",
    "import h5py\n",
    "\n",
    "hf = h5py.File('/Users/shellshetti/Downloads/treeVSnot.h5', 'r')\n",
    "hf.keys()\n",
    "Xtraining = np.array(hf.get('trainingData'))\n",
    "yTraining = np.array(hf.get('trainingLabels'))\n",
    "\n",
    "# data = hf.get('testingData')\n",
    "# data = hf.get('testingLabels')\n",
    "\n",
    "\n",
    "# data = tf.keras.datasets.mnist.load_data()\n",
    "# print(len(data))\n",
    "# print(data[0])\n",
    "\n",
    "print(Xtraining.shape)"
   ]
  },
  {
   "cell_type": "code",
   "execution_count": 79,
   "metadata": {},
   "outputs": [],
   "source": [
    "input = tf.keras.layers.Input(114)\n",
    "\n",
    "#Neural Network\n",
    "x = tf.keras.layers.Dense(10, activation='relu')(input)\n",
    "x = tf.keras.layers.Dense(10, activation='relu')(x)\n",
    "output = tf.keras.layers.Dense(3, activation='sigmoid')(x)\n",
    "#x = tf.keras.layers.Dense(5, activation='relu')\n",
    "\n",
    "neuralNetwork = tf.keras.Model(input,output)"
   ]
  },
  {
   "cell_type": "code",
   "execution_count": 80,
   "metadata": {},
   "outputs": [
    {
     "name": "stdout",
     "output_type": "stream",
     "text": [
      "Model: \"model_14\"\n",
      "_________________________________________________________________\n",
      " Layer (type)                Output Shape              Param #   \n",
      "=================================================================\n",
      " input_16 (InputLayer)       [(None, 114)]             0         \n",
      "                                                                 \n",
      " dense_41 (Dense)            (None, 10)                1150      \n",
      "                                                                 \n",
      " dense_42 (Dense)            (None, 10)                110       \n",
      "                                                                 \n",
      " dense_43 (Dense)            (None, 3)                 33        \n",
      "                                                                 \n",
      "=================================================================\n",
      "Total params: 1,293\n",
      "Trainable params: 1,293\n",
      "Non-trainable params: 0\n",
      "_________________________________________________________________\n"
     ]
    }
   ],
   "source": [
    "neuralNetwork.summary()"
   ]
  },
  {
   "cell_type": "code",
   "execution_count": 81,
   "metadata": {},
   "outputs": [
    {
     "name": "stdout",
     "output_type": "stream",
     "text": [
      "Epoch 1/10\n",
      "281/281 [==============================] - 1s 1ms/step - loss: 149.0171 - accuracy: 0.7084\n",
      "Epoch 2/10\n",
      "281/281 [==============================] - 0s 1ms/step - loss: 0.7291 - accuracy: 0.7125\n",
      "Epoch 3/10\n",
      "281/281 [==============================] - 0s 1ms/step - loss: 0.6846 - accuracy: 0.7125\n",
      "Epoch 4/10\n",
      "281/281 [==============================] - 0s 1ms/step - loss: 0.6635 - accuracy: 0.7125\n",
      "Epoch 5/10\n",
      "281/281 [==============================] - 0s 1ms/step - loss: 0.6508 - accuracy: 0.7125\n",
      "Epoch 6/10\n",
      "281/281 [==============================] - 0s 1ms/step - loss: 0.6422 - accuracy: 0.7125\n",
      "Epoch 7/10\n",
      "281/281 [==============================] - 0s 1ms/step - loss: 0.6361 - accuracy: 0.7125\n",
      "Epoch 8/10\n",
      "281/281 [==============================] - 0s 1ms/step - loss: 0.6315 - accuracy: 0.7125\n",
      "Epoch 9/10\n",
      "281/281 [==============================] - 0s 1ms/step - loss: 0.6279 - accuracy: 0.7125\n",
      "Epoch 10/10\n",
      "281/281 [==============================] - 0s 1ms/step - loss: 0.6251 - accuracy: 0.7125\n"
     ]
    },
    {
     "data": {
      "text/plain": [
       "<keras.callbacks.History at 0x13fcafd00>"
      ]
     },
     "execution_count": 81,
     "metadata": {},
     "output_type": "execute_result"
    }
   ],
   "source": [
    "neuralNetwork.compile(optimizer='sgd',loss='SparseCategoricalCrossentropy', metrics='accuracy')\n",
    "neuralNetwork.fit(Xtraining,yTraining ,epochs = 10)"
   ]
  }
 ],
 "metadata": {
  "interpreter": {
   "hash": "31f2aee4e71d21fbe5cf8b01ff0e069b9275f58929596ceb00d14d90e3e16cd6"
  },
  "kernelspec": {
   "display_name": "Python 3.8.9 64-bit",
   "language": "python",
   "name": "python3"
  },
  "language_info": {
   "codemirror_mode": {
    "name": "ipython",
    "version": 3
   },
   "file_extension": ".py",
   "mimetype": "text/x-python",
   "name": "python",
   "nbconvert_exporter": "python",
   "pygments_lexer": "ipython3",
   "version": "3.8.9"
  },
  "orig_nbformat": 4
 },
 "nbformat": 4,
 "nbformat_minor": 2
}
