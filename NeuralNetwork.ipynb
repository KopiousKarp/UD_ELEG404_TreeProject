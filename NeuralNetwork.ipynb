{
 "cells": [
  {
   "cell_type": "code",
   "execution_count": 1,
   "id": "4e37575a",
   "metadata": {},
   "outputs": [
    {
     "name": "stdout",
     "output_type": "stream",
     "text": [
      "(57775, 114)\n"
     ]
    }
   ],
   "source": [
    "import numpy as np\n",
    "import tensorflow as tf\n",
    "import matplotlib.pyplot as plt\n",
    "import h5py\n",
    "\n",
    "hf = h5py.File('./treeVSnot.h5', 'r')\n",
    "hf.keys()\n",
    "Xtraining = np.array(hf.get('trainingData'))\n",
    "yTraining = np.array(hf.get('trainingLabels'))\n",
    "\n",
    "# data = hf.get('testingData')\n",
    "# data = hf.get('testingLabels')\n",
    "\n",
    "\n",
    "# data = tf.keras.datasets.mnist.load_data()\n",
    "# print(len(data))\n",
    "# print(data[0])\n",
    "\n",
    "print(Xtraining.shape)"
   ]
  },
  {
   "cell_type": "code",
   "execution_count": 2,
   "id": "d2f31580",
   "metadata": {},
   "outputs": [],
   "source": [
    "input = tf.keras.layers.Input(114)\n",
    "\n",
    "#Neural Network\n",
    "x = tf.keras.layers.Dense(10, activation='sigmoid')(input)\n",
    "x = tf.keras.layers.Dense(10, activation='relu')(x)\n",
    "output = tf.keras.layers.Dense(3, activation='sigmoid')(x)\n",
    "# output = tf.keras.layers.Dense(3, activation='sigmoid')(input)\n",
    "#x = tf.keras.layers.Dense(5, activation='relu')\n",
    "\n",
    "neuralNetwork = tf.keras.Model(input,output)"
   ]
  },
  {
   "cell_type": "code",
   "execution_count": 3,
   "id": "879c8256",
   "metadata": {},
   "outputs": [
    {
     "name": "stdout",
     "output_type": "stream",
     "text": [
      "Model: \"model\"\n",
      "_________________________________________________________________\n",
      " Layer (type)                Output Shape              Param #   \n",
      "=================================================================\n",
      " input_1 (InputLayer)        [(None, 114)]             0         \n",
      "                                                                 \n",
      " dense (Dense)               (None, 10)                1150      \n",
      "                                                                 \n",
      " dense_1 (Dense)             (None, 10)                110       \n",
      "                                                                 \n",
      " dense_2 (Dense)             (None, 3)                 33        \n",
      "                                                                 \n",
      "=================================================================\n",
      "Total params: 1,293\n",
      "Trainable params: 1,293\n",
      "Non-trainable params: 0\n",
      "_________________________________________________________________\n"
     ]
    }
   ],
   "source": [
    "neuralNetwork.summary()"
   ]
  },
  {
   "cell_type": "code",
   "execution_count": 4,
   "id": "9cb25acd",
   "metadata": {},
   "outputs": [
    {
     "name": "stdout",
     "output_type": "stream",
     "text": [
      "Epoch 1/10\n",
      "1806/1806 [==============================] - 3s 1ms/step - loss: 0.2120 - accuracy: 0.9466\n",
      "Epoch 2/10\n",
      "1806/1806 [==============================] - 2s 1ms/step - loss: 0.1930 - accuracy: 0.9526\n",
      "Epoch 3/10\n",
      "1806/1806 [==============================] - 2s 1ms/step - loss: 0.1913 - accuracy: 0.9526\n",
      "Epoch 4/10\n",
      "1806/1806 [==============================] - 2s 1ms/step - loss: 0.1901 - accuracy: 0.9526\n",
      "Epoch 5/10\n",
      "1806/1806 [==============================] - 2s 1ms/step - loss: 0.1894 - accuracy: 0.9526\n",
      "Epoch 6/10\n",
      "1806/1806 [==============================] - 2s 1ms/step - loss: 0.1902 - accuracy: 0.9526\n",
      "Epoch 7/10\n",
      "1806/1806 [==============================] - 2s 1ms/step - loss: 0.1899 - accuracy: 0.9526\n",
      "Epoch 8/10\n",
      "1806/1806 [==============================] - 2s 1ms/step - loss: 0.1899 - accuracy: 0.9526\n",
      "Epoch 9/10\n",
      "1806/1806 [==============================] - 2s 1ms/step - loss: 0.1897 - accuracy: 0.9526\n",
      "Epoch 10/10\n",
      "1806/1806 [==============================] - 2s 1ms/step - loss: 0.1896 - accuracy: 0.9526\n"
     ]
    },
    {
     "data": {
      "text/plain": [
       "<keras.callbacks.History at 0x28da0fcae20>"
      ]
     },
     "execution_count": 4,
     "metadata": {},
     "output_type": "execute_result"
    }
   ],
   "source": [
    "neuralNetwork.compile(optimizer='sgd',loss='SparseCategoricalCrossentropy', metrics='accuracy')\n",
    "neuralNetwork.fit(Xtraining,yTraining ,epochs = 10)"
   ]
  }
 ],
 "metadata": {
  "kernelspec": {
   "display_name": "Python 3",
   "language": "python",
   "name": "python3"
  },
  "language_info": {
   "codemirror_mode": {
    "name": "ipython",
    "version": 3
   },
   "file_extension": ".py",
   "mimetype": "text/x-python",
   "name": "python",
   "nbconvert_exporter": "python",
   "pygments_lexer": "ipython3",
   "version": "3.8.8"
  }
 },
 "nbformat": 4,
 "nbformat_minor": 5
}
