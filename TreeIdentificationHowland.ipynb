{
 "cells": [
  {
   "cell_type": "code",
   "execution_count": 3,
   "metadata": {
    "colab": {
     "base_uri": "https://localhost:8080/"
    },
    "id": "a30nBABhuSpm",
    "outputId": "317836c8-4352-44a3-a845-42888f324982"
   },
   "outputs": [
    {
     "name": "stdout",
     "output_type": "stream",
     "text": [
      "Element: /Users/shellshetti/Downloads/Howland_Forest_Jun2012_mosaicked_refl_VIs/Howland_Forest_Jun2012_at-sensor_refl_L1G.hdr\n",
      "Element: /Users/shellshetti/Downloads/Howland_Forest_Jun2012_mosaicked_refl_VIs/Howland_Forest_Jun2012_at-sensor_refl_L1G\n"
     ]
    }
   ],
   "source": [
    "from glob import glob \n",
    "#file_list = glob(\"P\" + \"*.*\", recursive = True)\n",
    "file_list = glob(\"/Users/shellshetti/Downloads/Howland_Forest_Jun2012_mosaicked_refl_VIs/\" + \"*_*_*\",recursive = True)\n",
    "for i in file_list:\n",
    "    print(\"Element: \" + i)\n",
    "# print(\"List of filenames:\", file_list)"
   ]
  },
  {
   "cell_type": "code",
   "execution_count": 19,
   "metadata": {
    "colab": {
     "base_uri": "https://localhost:8080/"
    },
    "id": "IhKWmuFGubkg",
    "outputId": "f2d2e8d7-5716-41a5-9d51-acfe05d2bbe9"
   },
   "outputs": [
    {
     "name": "stdout",
     "output_type": "stream",
     "text": [
      "The size of /Users/shellshetti/Downloads/Howland_Forest_Jun2012_mosaicked_refl_VIs/Howland_Forest_Jun2012_at-sensor_refl_L1G.hdr  is  3675 bytes.\n"
     ]
    }
   ],
   "source": [
    "import os\n",
    "print(\"The size of\", file_list[0], \" is \", \n",
    "      os.path.getsize (file_list[0]), \"bytes.\")"
   ]
  },
  {
   "cell_type": "code",
   "execution_count": 20,
   "metadata": {
    "colab": {
     "base_uri": "https://localhost:8080/"
    },
    "id": "QY1E0Rxaugkk",
    "outputId": "ea63d9bb-c34f-4ee8-d721-6b8e22bdef45"
   },
   "outputs": [
    {
     "name": "stdout",
     "output_type": "stream",
     "text": [
      "                                             metadata\n",
      "0                                                ENVI\n",
      "1                                     description = {\n",
      "2     NASA G-LiHT, Howland_Forest_Jun2012 [Sat Mar...\n",
      "3                                      samples = 8008\n",
      "4                                     lines   = 10010\n",
      "5                                       bands   = 114\n",
      "6                                   header offset = 0\n",
      "7                           file type = ENVI Standard\n",
      "8                                       data type = 2\n",
      "9                                    interleave = bsq\n",
      "10                              sensor type = Unknown\n",
      "11                                     byte order = 0\n",
      "12  map info = {UTM, 1.000, 1.000, 517403.000, 501...\n",
      "13  coordinate system string = {PROJCS[\"UTM_Zone_1...\n",
      "14                         default bands = {55,34,16}\n",
      "15                      wavelength units = Nanometers\n",
      "16  z plot titles = {Wavelength (nm), Reflectance ...\n",
      "17  pixel size = {1.00000000e+00, 1.00000000e+00, ...\n",
      "18                      default stretch = 0.0% linear\n",
      "19                                     wavelength = {\n",
      "20   418.384277, 422.810944, 427.237701, 431.66442...\n",
      "21   444.944580, 449.371338, 453.798004, 458.22476...\n",
      "22   471.504913, 475.931641, 480.358368, 484.78506...\n",
      "23   498.065277, 502.491943, 506.918701, 511.34536...\n",
      "24   524.625549, 529.052307, 533.479004, 537.90576...\n",
      "25   551.185913, 555.612610, 560.039368, 564.46606...\n",
      "26   577.746216, 582.172974, 586.599670, 591.02636...\n",
      "27   604.306580, 608.733276, 613.159973, 617.58673...\n",
      "28   630.866882, 635.293579, 639.720337, 644.14703...\n",
      "29   657.427246, 661.853943, 666.280640, 670.70739...\n",
      "30   683.987549, 688.414307, 692.841003, 697.26776...\n",
      "31   710.547852, 714.974609, 719.401367, 723.82794...\n",
      "32   737.108215, 741.534912, 745.961670, 750.38836...\n",
      "33   763.668518, 768.095215, 772.521973, 776.94873...\n",
      "34   790.228821, 794.655579, 799.082275, 803.50903...\n",
      "35   816.789246, 821.215881, 825.642578, 830.06933...\n",
      "36   843.349426, 847.776184, 852.202942, 856.62963...\n",
      "37   869.909851, 874.336609, 878.763367, 883.19000...\n",
      "38   896.470215, 900.896790, 905.323547, 909.75030...\n",
      "39                                           fwhm = {\n",
      "40   15.432110, 15.363963, 15.295815, 15.227666, 1...\n",
      "41   14.955075, 14.886928, 14.818779, 14.750632, 1...\n",
      "42   14.478042, 14.409894, 14.341746, 14.273598, 1...\n",
      "43   14.001007, 13.932860, 13.864712, 13.796565, 1...\n",
      "44   13.523974, 13.455826, 13.387679, 13.319530, 1...\n",
      "45   13.046940, 12.978792, 12.910645, 12.842497, 1...\n",
      "46   12.569905, 12.501758, 12.433610, 12.365462, 1...\n",
      "47   12.092872, 12.024724, 11.956576, 11.888429, 1...\n",
      "48   11.615837, 11.547690, 11.479542, 11.411395, 1...\n",
      "49   11.138804, 11.070656, 11.002508, 10.934361, 1...\n",
      "50   10.661770, 10.593622, 10.525475, 10.457327, 1...\n",
      "51   10.184736, 10.116589, 10.048441,  9.980293,  ...\n",
      "52    9.707703,  9.639555,  9.571407,  9.503258,  ...\n",
      "53    9.230667,  9.162519,  9.094372,  9.026224,  ...\n",
      "54    8.753633,  8.685486,  8.617338,  8.549191,  ...\n",
      "55    8.276600,  8.208452,  8.140305,  8.072157,  ...\n",
      "56                               7.799566,  7.731418}\n"
     ]
    }
   ],
   "source": [
    "import pandas as pd\n",
    "metadata_list = glob(\"/Users/shellshetti/Downloads/Howland_Forest_Jun2012_mosaicked_refl_VIs/\" + \"*_*_*\")\n",
    "header_info = pd.read_table(metadata_list[0], header=None)\n",
    "# header_info = pd.read_table(file_list[1], header=None)\n",
    "header_info.columns = [\"metadata\"]\n",
    "print(header_info)"
   ]
  },
  {
   "cell_type": "code",
   "execution_count": 21,
   "metadata": {
    "colab": {
     "base_uri": "https://localhost:8080/"
    },
    "id": "uCDE1GbA8R2G",
    "outputId": "fe85998a-ab52-4720-9ee1-9584a45cda36"
   },
   "outputs": [
    {
     "name": "stdout",
     "output_type": "stream",
     "text": [
      "/Users/shellshetti/Downloads/Howland_Forest_Jun2012_mosaicked_refl_VIs/Howland_Forest_Jun2012_at-sensor_refl_L1G.hdr\n"
     ]
    }
   ],
   "source": [
    "#print(metadata_list[0])\n",
    "print(file_list[0])"
   ]
  },
  {
   "cell_type": "code",
   "execution_count": 22,
   "metadata": {
    "colab": {
     "base_uri": "https://localhost:8080/"
    },
    "id": "_cJx2Fm8ulDP",
    "outputId": "eed82a35-09c7-42bc-e868-e4f9128cd6d3"
   },
   "outputs": [],
   "source": [
    "##!pip install spectral\n",
    "from spectral import *"
   ]
  },
  {
   "cell_type": "code",
   "execution_count": 24,
   "metadata": {
    "colab": {
     "base_uri": "https://localhost:8080/",
     "height": 311
    },
    "id": "YWfDBPipuzR9",
    "outputId": "d4f7e227-e579-4aa6-c051-d6a18e6ead34"
   },
   "outputs": [],
   "source": [
    "# img = envi.open(file_list[1], )\n",
    "# img1 = envi.open(file_list[3], )\n",
    "# img2 = envi.open(file_list[5], )\n",
    "img = envi.open(metadata_list[0], )\n",
    "# img1 = envi.open(metadata_list[1], )\n",
    "# img2 = envi.open(metadata_list[2], )"
   ]
  },
  {
   "cell_type": "code",
   "execution_count": 25,
   "metadata": {
    "colab": {
     "base_uri": "https://localhost:8080/"
    },
    "id": "jx0XTcqku2vH",
    "outputId": "c43fbeb3-633c-4477-9145-218d3826abdc"
   },
   "outputs": [
    {
     "name": "stdout",
     "output_type": "stream",
     "text": [
      "(10010, 8008, 114)\n"
     ]
    }
   ],
   "source": [
    "print(img.shape)\n",
    "# print(img1.shape)\n",
    "# print(img2.shape)"
   ]
  },
  {
   "cell_type": "code",
   "execution_count": 26,
   "metadata": {
    "colab": {
     "base_uri": "https://localhost:8080/"
    },
    "id": "d3KvVCkhVDG1",
    "outputId": "807ae3da-a2b0-4ad4-ce9c-78ed20784369"
   },
   "outputs": [
    {
     "name": "stdout",
     "output_type": "stream",
     "text": [
      "0\n"
     ]
    }
   ],
   "source": [
    "#Inspect individual pixel\n",
    "print(img[500,700,6])\n",
    "#print(img1[500,700,6])\n",
    "# print(img2[500,700,6])"
   ]
  },
  {
   "cell_type": "code",
   "execution_count": 27,
   "metadata": {
    "colab": {
     "base_uri": "https://localhost:8080/",
     "height": 186
    },
    "id": "vL3l6-5EVGrv",
    "outputId": "b0a96122-c8fe-483f-cd3e-b7d7339afe3c"
   },
   "outputs": [],
   "source": [
    "#Load image as an array\n",
    "arr = img.load()\n",
    "#arr1 = img1.load()\n",
    "# arr2 = img2.load()"
   ]
  },
  {
   "cell_type": "code",
   "execution_count": 28,
   "metadata": {
    "id": "Yuh3KFfwZjb3"
   },
   "outputs": [
    {
     "data": {
      "text/plain": [
       "(3337, 2670, 114)"
      ]
     },
     "execution_count": 28,
     "metadata": {},
     "output_type": "execute_result"
    }
   ],
   "source": [
    "import numpy as np\n",
    "#Subsample image for faster processing\n",
    "arr = arr[::3,::3,:]\n",
    "arr.shape\n",
    "\n",
    "# arr1 = arr1[::3,::3,:]\n",
    "# arr1.shape\n",
    "\n",
    "# arr2 = arr2[::3,::3,:]\n",
    "# arr2.shape\n",
    "\n",
    "\n"
   ]
  },
  {
   "cell_type": "code",
   "execution_count": 29,
   "metadata": {
    "id": "PaSJgXHhZqSf"
   },
   "outputs": [
    {
     "name": "stdout",
     "output_type": "stream",
     "text": [
      "default stretch = 0.0% linear\n"
     ]
    }
   ],
   "source": [
    "print(header_info[\"metadata\"][18])"
   ]
  },
  {
   "cell_type": "code",
   "execution_count": 30,
   "metadata": {
    "id": "3uXb1o3xZvEh"
   },
   "outputs": [],
   "source": [
    "#Functions for working with images\n",
    "import cv2\n",
    "import matplotlib.pyplot as plt\n",
    "import numpy as np\n",
    "\n",
    "# def show_image(img1,img2,img3):\n",
    "def show_image(img1):\n",
    "    fig1, ax1 = plt.subplots(figsize=(5, 5))\n",
    "    ax1.imshow(img1, cmap = 'gray')\n",
    "    # ax1.imshow(img2, cmap = 'gray')\n",
    "    # ax1.imshow(img3, cmap = 'gray')\n",
    "\n",
    "def increase_brightness(img, value=80):\n",
    "    img = img.astype(np.uint8)\n",
    "    hsv = cv2.cvtColor(img, cv2.COLOR_BGR2HSV)\n",
    "    h, s, v = cv2.split(hsv)\n",
    "\n",
    "    lim = 255 - value\n",
    "    v[v > lim] = 255\n",
    "    v[v <= lim] += value\n",
    "\n",
    "    final_hsv = cv2.merge((h, s, v))\n",
    "    img = cv2.cvtColor(final_hsv, cv2.COLOR_HSV2BGR)\n",
    "    return img\n",
    "\n",
    "def create_rgb(hyper_cube):\n",
    "    rgb_image = hyper_cube[:,:,[53,31,8]]\n",
    "    rgb_image = cv2.normalize(rgb_image, dst=None, alpha=0, beta=255, norm_type=cv2.NORM_MINMAX)\n",
    "    rgb_image = rgb_image.astype(np.uint8)\n",
    "    rgb_image = increase_brightness(rgb_image)\n",
    "    return rgb_image"
   ]
  },
  {
   "cell_type": "code",
   "execution_count": 31,
   "metadata": {},
   "outputs": [],
   "source": [
    "def spectralSlicing(img):\n",
    "    #declaring variables\n",
    "    inBounds = True\n",
    "    x,y = 0,0\n",
    "    ret = []\n",
    "#     print(img.shape)\n",
    "    while(inBounds):\n",
    "        #slice 240 pixels in x and y and then take all 114 wavelengths \n",
    "        frame = img[x:(x+240),y:(y+240),:]\n",
    "        if(frame.any() != 0): #if the Frame is blank, don't append it\n",
    "            ret.append(frame)\n",
    "#         print(frame.shape)\n",
    "        #indexing and edge detection\n",
    "        x += 240\n",
    "        if((x+240) > img.shape[0]):\n",
    "            x = 0\n",
    "            y += 240\n",
    "            if((y+240) > img.shape[1]):\n",
    "                inBounds = False\n",
    "#    print(len(ret))\n",
    "    return ret"
   ]
  },
  {
   "cell_type": "code",
   "execution_count": 32,
   "metadata": {},
   "outputs": [],
   "source": [
    "miniframes = spectralSlicing(img)"
   ]
  },
  {
   "cell_type": "code",
   "execution_count": 33,
   "metadata": {},
   "outputs": [
    {
     "name": "stderr",
     "output_type": "stream",
     "text": [
      "/var/folders/zm/qhhhp2j15bs5fmptrvr6ppmc0000gn/T/ipykernel_975/1371991201.py:8: RuntimeWarning: More than 20 figures have been opened. Figures created through the pyplot interface (`matplotlib.pyplot.figure`) are retained until explicitly closed and may consume too much memory. (To control this warning, see the rcParam `figure.max_open_warning`).\n",
      "  fig1, ax1 = plt.subplots(figsize=(5, 5))\n"
     ]
    }
   ],
   "source": [
    "for i in range(len(miniframes)):\n",
    "    frame = create_rgb(miniframes[i])\n",
    "    show_image(frame)"
   ]
  },
  {
   "cell_type": "code",
   "execution_count": 2,
   "metadata": {
    "id": "gtcbhi9EZv6C"
   },
   "outputs": [
    {
     "ename": "NameError",
     "evalue": "name 'create_rgb' is not defined",
     "output_type": "error",
     "traceback": [
      "\u001b[0;31m---------------------------------------------------------------------------\u001b[0m",
      "\u001b[0;31mNameError\u001b[0m                                 Traceback (most recent call last)",
      "\u001b[1;32m/Users/shellshetti/UD_ELEG404_TreeProject/TreeIdentification.ipynb Cell 16'\u001b[0m in \u001b[0;36m<cell line: 2>\u001b[0;34m()\u001b[0m\n\u001b[1;32m      <a href='vscode-notebook-cell:/Users/shellshetti/UD_ELEG404_TreeProject/TreeIdentification.ipynb#ch0000015?line=0'>1</a>\u001b[0m \u001b[39m#Create RGB image and display it\u001b[39;00m\n\u001b[0;32m----> <a href='vscode-notebook-cell:/Users/shellshetti/UD_ELEG404_TreeProject/TreeIdentification.ipynb#ch0000015?line=1'>2</a>\u001b[0m rgb_img \u001b[39m=\u001b[39m create_rgb(arr) \n\u001b[1;32m      <a href='vscode-notebook-cell:/Users/shellshetti/UD_ELEG404_TreeProject/TreeIdentification.ipynb#ch0000015?line=2'>3</a>\u001b[0m \u001b[39m# rgb_img1 = create_rgb(arr1) \u001b[39;00m\n\u001b[1;32m      <a href='vscode-notebook-cell:/Users/shellshetti/UD_ELEG404_TreeProject/TreeIdentification.ipynb#ch0000015?line=3'>4</a>\u001b[0m \u001b[39m# rgb_img2 = create_rgb(arr2) \u001b[39;00m\n\u001b[1;32m      <a href='vscode-notebook-cell:/Users/shellshetti/UD_ELEG404_TreeProject/TreeIdentification.ipynb#ch0000015?line=4'>5</a>\u001b[0m \u001b[39mprint\u001b[39m(\u001b[39m\"\u001b[39m\u001b[39mThe dimensions of the RGB image are:\u001b[39m\u001b[39m\"\u001b[39m, rgb_img\u001b[39m.\u001b[39mshape)\n",
      "\u001b[0;31mNameError\u001b[0m: name 'create_rgb' is not defined"
     ]
    }
   ],
   "source": [
    "#Create RGB image and display it\n",
    "rgb_img = create_rgb(arr) \n",
    "# rgb_img1 = create_rgb(arr1) \n",
    "# rgb_img2 = create_rgb(arr2) \n",
    "print(\"The dimensions of the RGB image are:\", rgb_img.shape)\n",
    "# print(\"The dimensions of the RGB image are:\", rgb_img1.shape)\n",
    "# print(\"The dimensions of the RGB image are:\", rgb_img2.shape)\n",
    "# show_image(rgb_img,rgb_img1,rgb_img2)\n",
    "show_image(rgb_img)\n",
    "# show_image(rgb_img1)\n",
    "# show_image(rgb_img2)\n",
    "\n"
   ]
  },
  {
   "cell_type": "code",
   "execution_count": null,
   "metadata": {},
   "outputs": [],
   "source": []
  },
  {
   "cell_type": "code",
   "execution_count": null,
   "metadata": {},
   "outputs": [],
   "source": []
  }
 ],
 "metadata": {
  "colab": {
   "name": "TreeIdentification.ipynb",
   "provenance": []
  },
  "interpreter": {
   "hash": "31f2aee4e71d21fbe5cf8b01ff0e069b9275f58929596ceb00d14d90e3e16cd6"
  },
  "kernelspec": {
   "display_name": "Python 3 (ipykernel)",
   "language": "python",
   "name": "python3"
  },
  "language_info": {
   "codemirror_mode": {
    "name": "ipython",
    "version": 3
   },
   "file_extension": ".py",
   "mimetype": "text/x-python",
   "name": "python",
   "nbconvert_exporter": "python",
   "pygments_lexer": "ipython3",
   "version": "3.10.4"
  }
 },
 "nbformat": 4,
 "nbformat_minor": 1
}
